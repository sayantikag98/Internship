{
 "cells": [
  {
   "cell_type": "code",
   "execution_count": 1,
   "metadata": {},
   "outputs": [],
   "source": [
    "# Importing the various libraries\n",
    "import numpy as np\n",
    "import pandas as pd\n",
    "import matplotlib.pyplot as plt\n",
    "import seaborn as sns\n",
    "import sklearn\n",
    "import os\n",
    "import datetime as dt\n",
    "from datetime import datetime\n"
   ]
  },
  {
   "cell_type": "code",
   "execution_count": 2,
   "metadata": {},
   "outputs": [],
   "source": [
    "try:\n",
    "    import pymongo\n",
    "    from pymongo import MongoClient\n",
    "    import json\n",
    "except Exception as e:\n",
    "    print(\"Some modules are missing\")\n"
   ]
  },
  {
   "cell_type": "code",
   "execution_count": 3,
   "metadata": {},
   "outputs": [
    {
     "name": "stdout",
     "output_type": "stream",
     "text": [
      "All the data has been exported to mongoDB server\n"
     ]
    }
   ],
   "source": [
    "class MongoDB(object):\n",
    "    def __init__(self, dBName=None, collectionName=None):\n",
    "        self.dBName=dBName\n",
    "        self.collectionName= collectionName\n",
    "        self.client=MongoClient(\"localhost\", 27017)\n",
    "        self.DB=self.client[self.dBName]\n",
    "        self.collection=self.DB[self.collectionName]\n",
    "\n",
    "    def InsertData(self,path=None):\n",
    "\n",
    "        copied_path=(\"Data_final_version.csv\")\n",
    "        df=pd.read_csv(copied_path)\n",
    "        data=df.to_dict('records')\n",
    "\n",
    "        self.collection.insert_many(data,ordered=False)\n",
    "        print(\"All the data has been exported to mongoDB server\")\n",
    "\n",
    "if __name__==\"__main__\":\n",
    "        mongodb=MongoDB(dBName='DataIntern',collectionName='AnomalyDetect')\n",
    "        mongodb.InsertData(path=\"Data_final_version.csv\")"
   ]
  },
  {
   "cell_type": "code",
   "execution_count": null,
   "metadata": {},
   "outputs": [],
   "source": []
  }
 ],
 "metadata": {
  "kernelspec": {
   "display_name": "Python 3",
   "language": "python",
   "name": "python3"
  },
  "language_info": {
   "codemirror_mode": {
    "name": "ipython",
    "version": 3
   },
   "file_extension": ".py",
   "mimetype": "text/x-python",
   "name": "python",
   "nbconvert_exporter": "python",
   "pygments_lexer": "ipython3",
   "version": "3.7.4"
  }
 },
 "nbformat": 4,
 "nbformat_minor": 2
}
